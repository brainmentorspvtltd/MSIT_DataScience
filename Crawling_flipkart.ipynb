{
 "cells": [
  {
   "cell_type": "markdown",
   "metadata": {},
   "source": [
    "# Web Crawling"
   ]
  },
  {
   "cell_type": "code",
   "execution_count": 1,
   "metadata": {},
   "outputs": [],
   "source": [
    "import bs4\n",
    "import urllib.request as url"
   ]
  },
  {
   "cell_type": "code",
   "execution_count": 2,
   "metadata": {},
   "outputs": [],
   "source": [
    "path = \"https://www.flipkart.com/search?q=tv&as=on\"\n",
    "res = url.urlopen(path)"
   ]
  },
  {
   "cell_type": "code",
   "execution_count": 3,
   "metadata": {},
   "outputs": [
    {
     "name": "stdout",
     "output_type": "stream",
     "text": [
      "<http.client.HTTPResponse object at 0x00000284E0713A48>\n"
     ]
    }
   ],
   "source": [
    "print(res)"
   ]
  },
  {
   "cell_type": "code",
   "execution_count": 4,
   "metadata": {},
   "outputs": [],
   "source": [
    "# lxml - library XML => parser\n",
    "page = bs4.BeautifulSoup(res, 'lxml')"
   ]
  },
  {
   "cell_type": "code",
   "execution_count": 6,
   "metadata": {},
   "outputs": [],
   "source": [
    "title = page.find('div',class_='_3wU53n')"
   ]
  },
  {
   "cell_type": "code",
   "execution_count": 7,
   "metadata": {},
   "outputs": [
    {
     "data": {
      "text/plain": [
       "<div class=\"_3wU53n\">Mi LED Smart TV 4A PRO 80 cm (32)  with Android</div>"
      ]
     },
     "execution_count": 7,
     "metadata": {},
     "output_type": "execute_result"
    }
   ],
   "source": [
    "title"
   ]
  },
  {
   "cell_type": "code",
   "execution_count": 8,
   "metadata": {},
   "outputs": [
    {
     "data": {
      "text/plain": [
       "'Mi LED Smart TV 4A PRO 80 cm (32)  with Android'"
      ]
     },
     "execution_count": 8,
     "metadata": {},
     "output_type": "execute_result"
    }
   ],
   "source": [
    "title.text"
   ]
  },
  {
   "cell_type": "code",
   "execution_count": 9,
   "metadata": {},
   "outputs": [],
   "source": [
    "price = page.find('div',class_='_1vC4OE _2rQ-NK')"
   ]
  },
  {
   "cell_type": "code",
   "execution_count": 10,
   "metadata": {},
   "outputs": [
    {
     "data": {
      "text/plain": [
       "'₹12,499'"
      ]
     },
     "execution_count": 10,
     "metadata": {},
     "output_type": "execute_result"
    }
   ],
   "source": [
    "price.text"
   ]
  },
  {
   "cell_type": "code",
   "execution_count": 11,
   "metadata": {},
   "outputs": [],
   "source": [
    "titles = page.find_all('div',class_='_3wU53n')"
   ]
  },
  {
   "cell_type": "code",
   "execution_count": 13,
   "metadata": {},
   "outputs": [
    {
     "data": {
      "text/plain": [
       "24"
      ]
     },
     "execution_count": 13,
     "metadata": {},
     "output_type": "execute_result"
    }
   ],
   "source": [
    "len(titles)"
   ]
  },
  {
   "cell_type": "code",
   "execution_count": 15,
   "metadata": {},
   "outputs": [
    {
     "name": "stdout",
     "output_type": "stream",
     "text": [
      "Mi LED Smart TV 4A PRO 80 cm (32)  with Android\n",
      "Samsung Series 4 80cm (32 inch) HD Ready LED Smart TV\n",
      "Mi LED Smart TV 4A Pro 108 cm (43)  with Android\n",
      "LG All-in-One 80cm (32 inch) HD Ready LED Smart TV 2019 Edition\n",
      "Vu Premium 80cm (32 inch) HD Ready LED Smart Android TV\n",
      "Mi LED Smart TV 4A 100 cm (40)\n",
      "Vu Pixelight 126cm (50 inch) Ultra HD (4K) LED Smart TV  with cricket mode\n",
      "Vu Pixelight 138cm (55 inch) Ultra HD (4K) LED Smart TV  with Cricket Mode\n",
      "iFFALCON by TCL AI Powered K31 138.78cm (55 inch) Ultra HD (4K) LED Smart Android TV  with HDR 10\n",
      "Thomson B9 Pro 80cm (32 inch) HD Ready LED Smart TV\n",
      "Sansui Pro View 80cm (32 inch) HD Ready LED TV 2019 Edition  with WCG\n",
      "Sansui Pro View 60cm (24 inch) HD Ready LED TV  with High Color Transmittance\n",
      "Vu Premium 108cm (43 inch) Full HD LED Smart Android TV\n",
      "Vu Premium Android 126cm (50 inch) Ultra HD (4K) LED Smart Android TV  with Cricket Mode\n",
      "LG All-in-One 108cm (43 inch) Full HD LED Smart TV 2019 Edition\n",
      "Micromax 81cm (32 inch) HD Ready LED TV  with IPS Panel\n",
      "Motorola 80.5cm (32 inch) HD Ready LED Smart Android TV  with Wireless Gamepad\n",
      "Thomson R9 80cm (32 inch) HD Ready LED TV\n",
      "Thomson B9 Pro 102cm (40 inch) Full HD LED Smart TV\n",
      "Vu Pixelight 108cm (43 inch) Ultra HD (4K) LED Smart TV  with Cricket Mode\n",
      "iFFALCON by TCL 100.3cm (40 inch) Full HD LED Smart Android TV  with Google Assistant\n",
      "Micromax 102cm (40 inch) Full HD LED TV\n",
      "Motorola 109cm (43 inch) Ultra HD (4K) LED Smart Android TV  with Wireless Gamepad\n",
      "iFFALCON by TCL AI Powered K31 125.73cm (50 inch) Ultra HD (4K) LED Smart Android TV  with HDR 10\n"
     ]
    }
   ],
   "source": [
    "for i in range(len(titles)):\n",
    "    print(titles[i].text)"
   ]
  },
  {
   "cell_type": "code",
   "execution_count": 18,
   "metadata": {},
   "outputs": [],
   "source": [
    "priceList = page.find_all('div',class_='_1vC4OE _2rQ-NK')\n",
    "ratingList = page.find_all('span',class_=\"_2_KrJI\")"
   ]
  },
  {
   "cell_type": "code",
   "execution_count": 19,
   "metadata": {},
   "outputs": [
    {
     "name": "stdout",
     "output_type": "stream",
     "text": [
      "24\n",
      "24\n"
     ]
    }
   ],
   "source": [
    "print(len(priceList))\n",
    "print(len(ratingList))"
   ]
  },
  {
   "cell_type": "code",
   "execution_count": 20,
   "metadata": {},
   "outputs": [
    {
     "name": "stdout",
     "output_type": "stream",
     "text": [
      "Mi LED Smart TV 4A PRO 80 cm (32)  with Android\n",
      "₹12,499\n",
      "4.4\n",
      "###############################\n",
      "Samsung Series 4 80cm (32 inch) HD Ready LED Smart TV\n",
      "₹13,999\n",
      "4.3\n",
      "###############################\n",
      "Mi LED Smart TV 4A Pro 108 cm (43)  with Android\n",
      "₹21,999\n",
      "4.4\n",
      "###############################\n",
      "LG All-in-One 80cm (32 inch) HD Ready LED Smart TV 2019 Edition\n",
      "₹13,999\n",
      "4.4\n",
      "###############################\n",
      "Vu Premium 80cm (32 inch) HD Ready LED Smart Android TV\n",
      "₹10,999\n",
      "4.6\n",
      "###############################\n",
      "Mi LED Smart TV 4A 100 cm (40)\n",
      "₹17,999\n",
      "4.3\n",
      "###############################\n",
      "Vu Pixelight 126cm (50 inch) Ultra HD (4K) LED Smart TV  with cricket mode\n",
      "₹23,999\n",
      "4.4\n",
      "###############################\n",
      "Vu Pixelight 138cm (55 inch) Ultra HD (4K) LED Smart TV  with Cricket Mode\n",
      "₹29,999\n",
      "4.4\n",
      "###############################\n",
      "iFFALCON by TCL AI Powered K31 138.78cm (55 inch) Ultra HD (4K) LED Smart Android TV  with HDR 10\n",
      "₹29,999\n",
      "4.4\n",
      "###############################\n",
      "Thomson B9 Pro 80cm (32 inch) HD Ready LED Smart TV\n",
      "₹9,999\n",
      "4.4\n",
      "###############################\n",
      "Sansui Pro View 80cm (32 inch) HD Ready LED TV 2019 Edition  with WCG\n",
      "₹8,499\n",
      "4.3\n",
      "###############################\n",
      "Sansui Pro View 60cm (24 inch) HD Ready LED TV  with High Color Transmittance\n",
      "₹5,999\n",
      "4.3\n",
      "###############################\n",
      "Vu Premium 108cm (43 inch) Full HD LED Smart Android TV\n",
      "₹19,999\n",
      "4.6\n",
      "###############################\n",
      "Vu Premium Android 126cm (50 inch) Ultra HD (4K) LED Smart Android TV  with Cricket Mode\n",
      "₹27,999\n",
      "4.4\n",
      "###############################\n",
      "LG All-in-One 108cm (43 inch) Full HD LED Smart TV 2019 Edition\n",
      "₹27,999\n",
      "4.4\n",
      "###############################\n",
      "Micromax 81cm (32 inch) HD Ready LED TV  with IPS Panel\n",
      "₹8,499\n",
      "4.3\n",
      "###############################\n",
      "Motorola 80.5cm (32 inch) HD Ready LED Smart Android TV  with Wireless Gamepad\n",
      "₹13,999\n",
      "4.3\n",
      "###############################\n",
      "Thomson R9 80cm (32 inch) HD Ready LED TV\n",
      "₹7,999\n",
      "4.2\n",
      "###############################\n",
      "Thomson B9 Pro 102cm (40 inch) Full HD LED Smart TV\n",
      "₹15,999\n",
      "4.4\n",
      "###############################\n",
      "Vu Pixelight 108cm (43 inch) Ultra HD (4K) LED Smart TV  with Cricket Mode\n",
      "₹21,999\n",
      "4.4\n",
      "###############################\n",
      "iFFALCON by TCL 100.3cm (40 inch) Full HD LED Smart Android TV  with Google Assistant\n",
      "₹16,999\n",
      "4.2\n",
      "###############################\n",
      "Micromax 102cm (40 inch) Full HD LED TV\n",
      "₹13,999\n",
      "4.3\n",
      "###############################\n",
      "Motorola 109cm (43 inch) Ultra HD (4K) LED Smart Android TV  with Wireless Gamepad\n",
      "₹29,999\n",
      "4.4\n",
      "###############################\n",
      "iFFALCON by TCL AI Powered K31 125.73cm (50 inch) Ultra HD (4K) LED Smart Android TV  with HDR 10\n",
      "₹25,999\n",
      "4.4\n",
      "###############################\n"
     ]
    }
   ],
   "source": [
    "for i in range(len(titles)):\n",
    "    print(titles[i].text)\n",
    "    print(priceList[i].text)\n",
    "    print(ratingList[i].text)\n",
    "    print(\"###############################\")"
   ]
  },
  {
   "cell_type": "code",
   "execution_count": 22,
   "metadata": {},
   "outputs": [],
   "source": [
    "dataset = {\"titles\" : [], \"price\" : [], \"rating\" : []}\n",
    "for i in range(1,4):\n",
    "    path = f\"https://www.flipkart.com/search?q=tv&as=on&page={i}\"\n",
    "    res = url.urlopen(path)\n",
    "    page = bs4.BeautifulSoup(res, 'lxml')\n",
    "    titles = page.find_all('div',class_='_3wU53n')\n",
    "    priceList = page.find_all('div',class_='_1vC4OE _2rQ-NK')\n",
    "    ratingList = page.find_all('span',class_=\"_2_KrJI\")\n",
    "    for j in range(len(titles)):\n",
    "        dataset[\"titles\"].append(titles[j].text)\n",
    "        dataset[\"price\"].append(priceList[j].text)\n",
    "        dataset[\"rating\"].append(float(ratingList[j].text))"
   ]
  },
  {
   "cell_type": "code",
   "execution_count": 23,
   "metadata": {},
   "outputs": [],
   "source": [
    "import pandas as pd"
   ]
  },
  {
   "cell_type": "code",
   "execution_count": 24,
   "metadata": {},
   "outputs": [],
   "source": [
    "df = pd.DataFrame(dataset)"
   ]
  },
  {
   "cell_type": "code",
   "execution_count": 25,
   "metadata": {},
   "outputs": [
    {
     "data": {
      "text/plain": [
       "(72, 3)"
      ]
     },
     "execution_count": 25,
     "metadata": {},
     "output_type": "execute_result"
    }
   ],
   "source": [
    "df.shape"
   ]
  },
  {
   "cell_type": "code",
   "execution_count": 27,
   "metadata": {},
   "outputs": [
    {
     "data": {
      "text/html": [
       "<div>\n",
       "<style scoped>\n",
       "    .dataframe tbody tr th:only-of-type {\n",
       "        vertical-align: middle;\n",
       "    }\n",
       "\n",
       "    .dataframe tbody tr th {\n",
       "        vertical-align: top;\n",
       "    }\n",
       "\n",
       "    .dataframe thead th {\n",
       "        text-align: right;\n",
       "    }\n",
       "</style>\n",
       "<table border=\"1\" class=\"dataframe\">\n",
       "  <thead>\n",
       "    <tr style=\"text-align: right;\">\n",
       "      <th></th>\n",
       "      <th>titles</th>\n",
       "      <th>price</th>\n",
       "      <th>rating</th>\n",
       "    </tr>\n",
       "  </thead>\n",
       "  <tbody>\n",
       "    <tr>\n",
       "      <td>0</td>\n",
       "      <td>Mi LED Smart TV 4A PRO 80 cm (32)  with Android</td>\n",
       "      <td>₹12,499</td>\n",
       "      <td>4.4</td>\n",
       "    </tr>\n",
       "    <tr>\n",
       "      <td>1</td>\n",
       "      <td>Samsung Series 4 80cm (32 inch) HD Ready LED S...</td>\n",
       "      <td>₹13,999</td>\n",
       "      <td>4.3</td>\n",
       "    </tr>\n",
       "    <tr>\n",
       "      <td>2</td>\n",
       "      <td>Mi LED Smart TV 4A Pro 108 cm (43)  with Android</td>\n",
       "      <td>₹21,999</td>\n",
       "      <td>4.4</td>\n",
       "    </tr>\n",
       "    <tr>\n",
       "      <td>3</td>\n",
       "      <td>LG All-in-One 80cm (32 inch) HD Ready LED Smar...</td>\n",
       "      <td>₹13,999</td>\n",
       "      <td>4.4</td>\n",
       "    </tr>\n",
       "    <tr>\n",
       "      <td>4</td>\n",
       "      <td>Vu Premium 80cm (32 inch) HD Ready LED Smart A...</td>\n",
       "      <td>₹10,999</td>\n",
       "      <td>4.6</td>\n",
       "    </tr>\n",
       "    <tr>\n",
       "      <td>5</td>\n",
       "      <td>Mi LED Smart TV 4A 100 cm (40)</td>\n",
       "      <td>₹17,999</td>\n",
       "      <td>4.3</td>\n",
       "    </tr>\n",
       "    <tr>\n",
       "      <td>6</td>\n",
       "      <td>Vu Pixelight 126cm (50 inch) Ultra HD (4K) LED...</td>\n",
       "      <td>₹23,999</td>\n",
       "      <td>4.4</td>\n",
       "    </tr>\n",
       "    <tr>\n",
       "      <td>7</td>\n",
       "      <td>Vu Pixelight 138cm (55 inch) Ultra HD (4K) LED...</td>\n",
       "      <td>₹29,999</td>\n",
       "      <td>4.4</td>\n",
       "    </tr>\n",
       "    <tr>\n",
       "      <td>8</td>\n",
       "      <td>iFFALCON by TCL AI Powered K31 138.78cm (55 in...</td>\n",
       "      <td>₹29,999</td>\n",
       "      <td>4.4</td>\n",
       "    </tr>\n",
       "    <tr>\n",
       "      <td>9</td>\n",
       "      <td>Sansui Pro View 60cm (24 inch) HD Ready LED TV...</td>\n",
       "      <td>₹5,999</td>\n",
       "      <td>4.3</td>\n",
       "    </tr>\n",
       "  </tbody>\n",
       "</table>\n",
       "</div>"
      ],
      "text/plain": [
       "                                              titles    price  rating\n",
       "0    Mi LED Smart TV 4A PRO 80 cm (32)  with Android  ₹12,499     4.4\n",
       "1  Samsung Series 4 80cm (32 inch) HD Ready LED S...  ₹13,999     4.3\n",
       "2   Mi LED Smart TV 4A Pro 108 cm (43)  with Android  ₹21,999     4.4\n",
       "3  LG All-in-One 80cm (32 inch) HD Ready LED Smar...  ₹13,999     4.4\n",
       "4  Vu Premium 80cm (32 inch) HD Ready LED Smart A...  ₹10,999     4.6\n",
       "5                     Mi LED Smart TV 4A 100 cm (40)  ₹17,999     4.3\n",
       "6  Vu Pixelight 126cm (50 inch) Ultra HD (4K) LED...  ₹23,999     4.4\n",
       "7  Vu Pixelight 138cm (55 inch) Ultra HD (4K) LED...  ₹29,999     4.4\n",
       "8  iFFALCON by TCL AI Powered K31 138.78cm (55 in...  ₹29,999     4.4\n",
       "9  Sansui Pro View 60cm (24 inch) HD Ready LED TV...   ₹5,999     4.3"
      ]
     },
     "execution_count": 27,
     "metadata": {},
     "output_type": "execute_result"
    }
   ],
   "source": [
    "# will print first 5 rows\n",
    "# df.head()\n",
    "df.head(10)"
   ]
  },
  {
   "cell_type": "code",
   "execution_count": 30,
   "metadata": {},
   "outputs": [
    {
     "data": {
      "text/html": [
       "<div>\n",
       "<style scoped>\n",
       "    .dataframe tbody tr th:only-of-type {\n",
       "        vertical-align: middle;\n",
       "    }\n",
       "\n",
       "    .dataframe tbody tr th {\n",
       "        vertical-align: top;\n",
       "    }\n",
       "\n",
       "    .dataframe thead th {\n",
       "        text-align: right;\n",
       "    }\n",
       "</style>\n",
       "<table border=\"1\" class=\"dataframe\">\n",
       "  <thead>\n",
       "    <tr style=\"text-align: right;\">\n",
       "      <th></th>\n",
       "      <th>titles</th>\n",
       "      <th>price</th>\n",
       "      <th>rating</th>\n",
       "    </tr>\n",
       "  </thead>\n",
       "  <tbody>\n",
       "    <tr>\n",
       "      <td>4</td>\n",
       "      <td>Vu Premium 80cm (32 inch) HD Ready LED Smart A...</td>\n",
       "      <td>₹10,999</td>\n",
       "      <td>4.6</td>\n",
       "    </tr>\n",
       "    <tr>\n",
       "      <td>10</td>\n",
       "      <td>Vu Premium 108cm (43 inch) Full HD LED Smart A...</td>\n",
       "      <td>₹19,999</td>\n",
       "      <td>4.6</td>\n",
       "    </tr>\n",
       "    <tr>\n",
       "      <td>69</td>\n",
       "      <td>LG 139cm (55 inch) Ultra HD (4K) LED Smart TV ...</td>\n",
       "      <td>₹1,05,990</td>\n",
       "      <td>4.9</td>\n",
       "    </tr>\n",
       "    <tr>\n",
       "      <td>71</td>\n",
       "      <td>Samsung 165.1cm (65 inch) Ultra HD (4K) LED Sm...</td>\n",
       "      <td>₹97,799</td>\n",
       "      <td>4.8</td>\n",
       "    </tr>\n",
       "  </tbody>\n",
       "</table>\n",
       "</div>"
      ],
      "text/plain": [
       "                                               titles      price  rating\n",
       "4   Vu Premium 80cm (32 inch) HD Ready LED Smart A...    ₹10,999     4.6\n",
       "10  Vu Premium 108cm (43 inch) Full HD LED Smart A...    ₹19,999     4.6\n",
       "69  LG 139cm (55 inch) Ultra HD (4K) LED Smart TV ...  ₹1,05,990     4.9\n",
       "71  Samsung 165.1cm (65 inch) Ultra HD (4K) LED Sm...    ₹97,799     4.8"
      ]
     },
     "execution_count": 30,
     "metadata": {},
     "output_type": "execute_result"
    }
   ],
   "source": [
    "df[df['rating'] > 4.5]"
   ]
  },
  {
   "cell_type": "code",
   "execution_count": null,
   "metadata": {},
   "outputs": [],
   "source": []
  }
 ],
 "metadata": {
  "kernelspec": {
   "display_name": "Python 3",
   "language": "python",
   "name": "python3"
  },
  "language_info": {
   "codemirror_mode": {
    "name": "ipython",
    "version": 3
   },
   "file_extension": ".py",
   "mimetype": "text/x-python",
   "name": "python",
   "nbconvert_exporter": "python",
   "pygments_lexer": "ipython3",
   "version": "3.7.4"
  }
 },
 "nbformat": 4,
 "nbformat_minor": 2
}
